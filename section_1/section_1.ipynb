{
 "cells": [
  {
   "cell_type": "code",
   "execution_count": 1,
   "metadata": {},
   "outputs": [],
   "source": [
    "# libraries\n",
    "import pandas as pd\n",
    "from datetime import datetime\n",
    "import re\n",
    "import os\n",
    "import hashlib\n",
    "import shutil\n",
    "from pathlib import Path"
   ]
  },
  {
   "cell_type": "code",
   "execution_count": 2,
   "metadata": {},
   "outputs": [],
   "source": [
    "# Declare folders\n",
    "BASE_FOLDER = Path(os.getcwd()) \n",
    "\n",
    "INPUT_FOLDER = BASE_FOLDER / \"input\"\n",
    "SUCCESS_FOLDER = BASE_FOLDER / \"output\" / \"success\"\n",
    "FAILURE_FOLDER = BASE_FOLDER / \"output\" / \"fail\"\n",
    "ARCHIVE_FOLDER = BASE_FOLDER / \"archive\""
   ]
  },
  {
   "cell_type": "code",
   "execution_count": 3,
   "metadata": {},
   "outputs": [],
   "source": [
    "# Declare Reference date used to determine if a person is above 18 years old\n",
    "REFERENCE_DT = datetime(2022, 1, 1)\n",
    "\n",
    "# Declare acceptable date formats for parsing date of birth\n",
    "VALID_DATE_FORMATS = [\"%Y/%m/%d\", \"%m/%d/%Y\", \"%Y-%m-%d\", \"%d-%m-%Y\"]\n",
    "\n",
    "# Declare regular expression pattern to validate email format\n",
    "VALID_EMAIL_PATTERN = re.compile(r\"^[\\w\\.-]+@[\\w\\.-]+\\.(com|net)$\")\n",
    "\n",
    "# Titles to be excluded when extracting names from full name field\n",
    "VALID_TITLES = {\"Mr.\", \"Mrs.\", \"Ms.\", \"Dr.\", \"Prof.\", \"Miss\", \"Sir\", \"Madam\", \"Mx.\", \"Jr.\", \"Sr.\", \"MD\", \"PhD\", \"DDS\", \"Sir\", \"Dame\"'Lord', \n",
    "                'Lady', 'Rev', 'Reverend', 'Capt', 'Captain', 'Maj', 'Major'} "
   ]
  },
  {
   "cell_type": "code",
   "execution_count": 4,
   "metadata": {},
   "outputs": [],
   "source": [
    "# Function to parse a date string using multiple formats\n",
    "def parse_date(date_str):\n",
    "    for fmt in VALID_DATE_FORMATS:\n",
    "        try:\n",
    "            return datetime.strptime(date_str, fmt)\n",
    "        except ValueError:\n",
    "            continue  # Try the next format if the current one fails\n",
    "    return None  # Return None if no format matches"
   ]
  },
  {
   "cell_type": "code",
   "execution_count": 5,
   "metadata": {},
   "outputs": [],
   "source": [
    "# Function to check if an email is in valid pattern\n",
    "def is_valid_email(email):\n",
    "    return bool(VALID_EMAIL_PATTERN.match(email)) if pd.notna(email) else False"
   ]
  },
  {
   "cell_type": "code",
   "execution_count": 6,
   "metadata": {},
   "outputs": [],
   "source": [
    "# Function to check if mobile number is valid\n",
    "def is_valid_mobile(mobile):\n",
    "    return str(mobile).isdigit() and len(str(mobile)) == 8"
   ]
  },
  {
   "cell_type": "code",
   "execution_count": 7,
   "metadata": {},
   "outputs": [],
   "source": [
    "# Function to generate a unique membership ID using SHA-256 hashing of birthday, returning in lowercase\n",
    "def generate_membership_id(last_name, birthday):\n",
    "    hash_digest = hashlib.sha256(birthday.encode()).hexdigest()\n",
    "    return f\"{last_name.lower()}_{hash_digest[:5].lower()}\""
   ]
  },
  {
   "cell_type": "code",
   "execution_count": 8,
   "metadata": {},
   "outputs": [],
   "source": [
    "# Function to parse a full name string and return the first and last name.\n",
    "# This function should disregard any leading titles, as they are not considered part of the individual's name\n",
    "\n",
    "def parse_name(full_name):\n",
    "    if pd.isna(full_name) or not isinstance(full_name, str) or full_name.strip() == \"\":\n",
    "        return None, None  # Return None for both fields if input is invalid\n",
    "    \n",
    "    parts = [word for word in full_name.split() if word not in VALID_TITLES]  # Remove titles\n",
    "    if len(parts) > 1:\n",
    "        return parts[0], \" \".join(parts[1:])  # First word is first name, remaining words are last name\n",
    "    return parts[0], None  # If the name contains only one word, treat it as the first name and set the last name to None."
   ]
  },
  {
   "cell_type": "code",
   "execution_count": 9,
   "metadata": {},
   "outputs": [
    {
     "name": "stdout",
     "output_type": "stream",
     "text": [
      "STARTING to process file: C:\\Albert\\data_engineering_assessment\\section_1\\input\\applications_dataset_1.csv\n",
      "Processing file: C:\\Albert\\data_engineering_assessment\\section_1\\input\\applications_dataset_1.csv -> 225 successful, 1774 unsuccessful\n",
      "\n",
      "Archiving file C:\\Albert\\data_engineering_assessment\\section_1\\input\\applications_dataset_1.csv to C:\\Albert\\data_engineering_assessment\\section_1\\archive\\20250918\n",
      "\n",
      "STARTING to process file: C:\\Albert\\data_engineering_assessment\\section_1\\input\\applications_dataset_2.csv\n",
      "Processing file: C:\\Albert\\data_engineering_assessment\\section_1\\input\\applications_dataset_2.csv -> 301 successful, 2699 unsuccessful\n",
      "\n",
      "Archiving file C:\\Albert\\data_engineering_assessment\\section_1\\input\\applications_dataset_2.csv to C:\\Albert\\data_engineering_assessment\\section_1\\archive\\20250918\n",
      "\n"
     ]
    }
   ],
   "source": [
    "# Function to process all input csv files, transform and put them into success and fail.\n",
    "def process_input_file(file_path):\n",
    "\n",
    "    print(f\"STARTING to process file: {file_path}\")\n",
    "    \n",
    "    # Read the CSV file, assuming tab or comma as delimiters\n",
    "    df = pd.read_csv(file_path, delimiter='\\t|,', engine='python')\n",
    "    \n",
    "    # Extract first and last names from the 'name' column\n",
    "    df[['first_name', 'last_name']] = df['name'].apply(lambda x: pd.Series(parse_name(x)))\n",
    "    # keep the original name column after extraction\n",
    "    # df.drop(columns=['name'], inplace=True) \n",
    "    \n",
    "    # Convert 'date_of_birth' to datetime format\n",
    "    df['dob_final'] = df['date_of_birth'].apply(parse_date)\n",
    "    # keep original date_of_birth column after parsing\n",
    "    # df.drop(columns=['date_of_birth'], inplace=True)  \n",
    "    \n",
    "    # Format birthday as a string for further processing\n",
    "    df['dob_final_str'] = df['dob_final'].dt.strftime('%Y%m%d')\n",
    "    \n",
    "    # Determine if the person is above 18 years old\n",
    "    df['above_18'] = df['dob_final'].notna() & ((REFERENCE_DT - df['dob_final']).dt.days >= 18 * 365)\n",
    "    \n",
    "    # Validate mobile numbers (expecting exactly 8 digits)\n",
    "    df['valid_mobile'] = df['mobile_no'].astype(str).str.match(r'^[0-9]{8}$')\n",
    "    \n",
    "    # Validate email format\n",
    "    df['valid_email'] = df['email'].apply(is_valid_email)\n",
    "    \n",
    "    # Determine whether the record is successful based on multiple conditions\n",
    "    df['successful'] = df['above_18'] & df['valid_mobile'] & df['valid_email'] & df['name'].notna()\n",
    "    \n",
    "    # Generate a membership ID for successful records only\n",
    "    df['membership_id'] = df.apply(lambda row: generate_membership_id(row['last_name'], row['dob_final_str']) if row['successful'] else None, axis=1)\n",
    "    \n",
    "    # Separate successful and unsuccessful records\n",
    "    successful_df = df[df['successful']].drop(columns=['successful', 'valid_mobile', 'valid_email'])\n",
    "    unsuccessful_df = df[~df['successful']].drop(columns=['successful', 'valid_mobile', 'valid_email'])\n",
    "    \n",
    "    # Reorder columns to match the desired order\n",
    "    successful_column_order = ['membership_id', 'name', 'first_name', 'last_name', 'email', 'date_of_birth', 'dob_final', 'dob_final_str', 'mobile_no', 'above_18']\n",
    "    successful_df = successful_df[successful_column_order]\n",
    "    unsuccessful_column_order = ['name', 'email', 'date_of_birth', 'mobile_no']\n",
    "    unsuccessful_df = unsuccessful_df[unsuccessful_column_order]\n",
    "    \n",
    "    # Extract filename and extension\n",
    "    base_filename, ext = os.path.splitext(os.path.basename(file_path))\n",
    "    # Define output file paths with suffixes\n",
    "    success_output_path = os.path.join(SUCCESS_FOLDER, f\"{base_filename}_success_{datetime.now().strftime('%Y%m%d%H%M%S')}{ext}\")\n",
    "    fail_output_path = os.path.join(FAILURE_FOLDER, f\"{base_filename}_fail_{datetime.now().strftime('%Y%m%d%H%M%S')}_{ext}\")\n",
    "    \n",
    "    # Save processed results\n",
    "    successful_df.to_csv(success_output_path, index=False)\n",
    "    unsuccessful_df.to_csv(fail_output_path, index=False)\n",
    "    \n",
    "    print(f\"Processing file: {file_path} -> {len(successful_df)} successful, {len(unsuccessful_df)} unsuccessful\")\n",
    "    print(f\"\")\n",
    "\n",
    "    # Archive processed file in dynamic date folder\n",
    "    date_folder = ARCHIVE_FOLDER / datetime.now().strftime(\"%Y%m%d\")\n",
    "    date_folder.mkdir(parents=True, exist_ok=True)\n",
    "    shutil.move(file_path, date_folder)\n",
    "    print(f\"Archiving file {file_path} to {date_folder}\")\n",
    "    print(f\"\")\n",
    "\n",
    "# Main script to iterate all the input files and process them\n",
    "if __name__ == \"__main__\":\n",
    "\n",
    "    if not os.listdir(INPUT_FOLDER):\n",
    "        print(\"No files found in the input folder. Nothing to process.\")\n",
    "    else:\n",
    "        for file_name in os.listdir(INPUT_FOLDER):\n",
    "            file_path = os.path.join(INPUT_FOLDER, file_name)\n",
    "            \n",
    "            # Process only CSV files\n",
    "            if os.path.isfile(file_path) and file_name.endswith(\".csv\"):\n",
    "                process_input_file(file_path)"
   ]
  }
 ],
 "metadata": {
  "kernelspec": {
   "display_name": "Python 3 (ipykernel)",
   "language": "python",
   "name": "python3"
  },
  "language_info": {
   "codemirror_mode": {
    "name": "ipython",
    "version": 3
   },
   "file_extension": ".py",
   "mimetype": "text/x-python",
   "name": "python",
   "nbconvert_exporter": "python",
   "pygments_lexer": "ipython3",
   "version": "3.13.2"
  }
 },
 "nbformat": 4,
 "nbformat_minor": 4
}
